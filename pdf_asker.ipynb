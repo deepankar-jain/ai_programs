{
 "cells": [
  {
   "cell_type": "code",
   "execution_count": 1,
   "id": "fbdb549e",
   "metadata": {},
   "outputs": [],
   "source": [
    "# !pip install langchain\n",
    "# !pip install pypdf2 streamlit\n",
    "# !pip install tiktoken\n",
    "# !pip install faiss-cpu\n",
    "# pip install -U openai\n",
    "import openai\n",
    "import os\n",
    "import json\n",
    "from dotenv import load_dotenv\n",
    "# Load environment variables from .env file\n",
    "from langchain.text_splitter import CharacterTextSplitter\n",
    "import streamlit as st\n",
    "from PyPDF2 import PdfReader\n",
    "from langchain.embeddings.openai import OpenAIEmbeddings\n",
    "from langchain.vectorstores import FAISS\n",
    "from langchain.chains.question_answering import load_qa_chain\n",
    "from langchain.llms import OpenAI\n",
    "\n",
    "from langchain.callbacks import get_openai_callback\n",
    "# Get the OpenAI API key from the environment variables\n",
    "api_key = os.getenv(\"OPENAI_API_KEY\")\n",
    "import requests\n",
    "# Set the API key for the OpenAI API client\n",
    "# openai.api_key = api_key\n",
    "\n",
    "# Now you can use the OpenAI API client with your loaded API key"
   ]
  },
  {
   "cell_type": "code",
   "execution_count": 2,
   "id": "d2be1708",
   "metadata": {},
   "outputs": [
    {
     "name": "stderr",
     "output_type": "stream",
     "text": [
      "2023-05-29 12:24:53.623 \n",
      "  \u001b[33m\u001b[1mWarning:\u001b[0m to view this Streamlit app on a browser, run it with the following\n",
      "  command:\n",
      "\n",
      "    streamlit run C:\\Users\\91982\\anaconda3\\lib\\site-packages\\ipykernel_launcher.py [ARGUMENTS]\n"
     ]
    }
   ],
   "source": [
    "def main():\n",
    "    load_dotenv()\n",
    "    st.set_page_config(page_title=\"Ask PDF\")\n",
    "    st.header(\"Ask your pdf\")\n",
    "    \n",
    "    pdf = st.file_uploader(\"Upload you pdf\", type=\"pdf\")\n",
    "    \n",
    "    if pdf is not None:\n",
    "        pdf_reader=PdfReader(pdf)\n",
    "        text=\"\"\n",
    "        for page in pdf_reader.pages:\n",
    "#             print(page)\n",
    "            text+=page.extract_text()\n",
    "#         st.write(text)\n",
    "\n",
    "    #Split into chunks\n",
    "        text_splitter= CharacterTextSplitter(separator=\"\\n\",\n",
    "        chunk_size=1000, chunk_overlap=200,length_function=len\n",
    "        )\n",
    "        chunks=text_splitter.split_text(text)\n",
    "#         st.write(chunks)\n",
    "    #Create embeddings\n",
    "        embeddings = OpenAIEmbeddings()\n",
    "        knowledge_base = FAISS.from_texts(chunks, embeddings)\n",
    "        \n",
    "        user_question = st.text_input(\"Ask a question to your PDF\")\n",
    "        \n",
    "        if user_question:\n",
    "            docs = knowledge_base.similarity_search(user_question)\n",
    "#             st.write(docs)\n",
    "#             llm = OpenAI(model=\"text-ada-001\") #cheapest but not good\n",
    "#             llm = OpenAI(model=\"text-davinci-002\") #  expensive\n",
    "            llm = OpenAI(model=\"text-curie-001\") # cheap and okay\n",
    "#             llm = OpenAI(model=\"text-babbage-001\") #cheaper but not good\n",
    "            chain = load_qa_chain(llm, chain_type = \"stuff\")\n",
    "            with get_openai_callback() as cb:\n",
    "                response = chain.run(input_documents= docs, question= user_question)\n",
    "                print(cb)\n",
    "            st.write(response)\n",
    "            \n",
    "            \n",
    "        \n",
    "        \n",
    "#         try:\n",
    "#     # Create embeddings\n",
    "#             embeddings = OpenAIEmbeddings()\n",
    "#             knowledge_base = FAISS.from_texts(chunks,embeddings)\n",
    "#         except Exception as e:\n",
    "#     # Handle the error\n",
    "#             st.write(f\"An error occurred: {str(e)}\")\n",
    "        \n",
    "    \n",
    "#         st.write(knowledge_base)\n",
    "if __name__ =='__main__':\n",
    "    main()"
   ]
  }
 ],
 "metadata": {
  "kernelspec": {
   "display_name": "Python 3",
   "language": "python",
   "name": "python3"
  },
  "language_info": {
   "codemirror_mode": {
    "name": "ipython",
    "version": 3
   },
   "file_extension": ".py",
   "mimetype": "text/x-python",
   "name": "python",
   "nbconvert_exporter": "python",
   "pygments_lexer": "ipython3",
   "version": "3.8.8"
  }
 },
 "nbformat": 4,
 "nbformat_minor": 5
}
